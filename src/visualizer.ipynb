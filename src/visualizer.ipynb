{
 "cells": [
  {
   "cell_type": "markdown",
   "metadata": {},
   "source": [
    "### Imports"
   ]
  },
  {
   "cell_type": "code",
   "execution_count": null,
   "metadata": {},
   "outputs": [],
   "source": [
    "import os\n",
    "import pandas as pd\n",
    "import matplotlib.pyplot as plt"
   ]
  },
  {
   "cell_type": "markdown",
   "metadata": {},
   "source": [
    "### Instance Data Merger"
   ]
  },
  {
   "cell_type": "code",
   "execution_count": null,
   "metadata": {},
   "outputs": [],
   "source": [
    "root_dir = \"/home/nvombat/Desktop/z3r0_7ru57/research/experiments/hpc/experiment3\"\n",
    "output_dir = root_dir"
   ]
  },
  {
   "cell_type": "code",
   "execution_count": null,
   "metadata": {},
   "outputs": [],
   "source": [
    "e1_combined = pd.DataFrame()\n",
    "e2_combined = pd.DataFrame()\n",
    "\n",
    "# Loop through each folder in the root directory\n",
    "for folder in sorted(os.listdir(root_dir)):\n",
    "    folder_path = os.path.join(root_dir, folder)\n",
    "\n",
    "    # Loop through each subfolder in the root directory\n",
    "    for sub_folder in sorted(os.listdir(folder_path)):\n",
    "        sub_folder_path = os.path.join(folder_path, sub_folder)\n",
    "\n",
    "        if os.path.isdir(sub_folder_path):\n",
    "            # Find the CSV files in the folder\n",
    "            for file in os.listdir(sub_folder_path):\n",
    "                if file.endswith(\".csv\"):\n",
    "                    file_path = os.path.join(sub_folder_path, file)\n",
    "\n",
    "                    if \"experiment_data_e1\" in file:\n",
    "                        df_e1 = pd.read_csv(file_path)\n",
    "                        e1_combined = pd.concat([e1_combined, df_e1], ignore_index=True)\n",
    "                    elif \"experiment_data_e2\" in file:\n",
    "                        df_e2 = pd.read_csv(file_path)\n",
    "                        e2_combined = pd.concat([e2_combined, df_e2], ignore_index=True)\n",
    "\n",
    "# Save the concatenated DataFrames\n",
    "os.makedirs(output_dir, exist_ok=True)\n",
    "e1_combined.to_csv(os.path.join(output_dir, 'concatenated_e1.csv'), index=False)\n",
    "e2_combined.to_csv(os.path.join(output_dir, 'concatenated_e2.csv'), index=False)\n",
    "\n",
    "print(\"Concatenation Complete. Files Saved To: \", output_dir)"
   ]
  },
  {
   "cell_type": "markdown",
   "metadata": {},
   "source": [
    "### Instance Data Visualizer & Analyzer"
   ]
  },
  {
   "cell_type": "markdown",
   "metadata": {},
   "source": [
    "##### Mean, Median and Standard Deviation of Merged Instance Data"
   ]
  },
  {
   "cell_type": "code",
   "execution_count": null,
   "metadata": {},
   "outputs": [],
   "source": [
    "e1_concat_path = os.path.join(root_dir, \"concatenated_e1.csv\")\n",
    "e2_concat_path = os.path.join(root_dir, \"concatenated_e2.csv\")\n",
    "\n",
    "e1_data = pd.read_csv(e1_concat_path)\n",
    "e2_data = pd.read_csv(e2_concat_path)"
   ]
  },
  {
   "cell_type": "code",
   "execution_count": null,
   "metadata": {},
   "outputs": [],
   "source": [
    "def calculate_statistics(df: pd.DataFrame, encoding_name: str):\n",
    "    \"\"\"\n",
    "    Calculate mean, median, and standard deviation for selected columns grouped by 'N'\n",
    "\n",
    "    Args:\n",
    "        df: Input data for an encoding\n",
    "        encoding_name: The name of the encoding ('E1', 'E2', etc.)\n",
    "\n",
    "    Returns:\n",
    "        DataFrame: Statistics table with mean, median, and std for each column grouped by 'N'.\n",
    "    \"\"\"\n",
    "    # Columns to calculate statistics for\n",
    "    columns_to_analyze = ['num_clauses', 'num_variables', 'num_literals']\n",
    "\n",
    "    # Group by 'N' and calculate mean, median, std\n",
    "    stats = df.groupby('N')[columns_to_analyze].agg(['mean', 'median', 'std']).reset_index()\n",
    "\n",
    "    # Flatten multi-level column index\n",
    "    stats.columns = ['_'.join(col).strip('_') if col[1] else col[0] for col in stats.columns]\n",
    "\n",
    "    # Add encoding as the first column\n",
    "    stats.insert(0, 'encoding', encoding_name)\n",
    "\n",
    "    return stats\n",
    "\n",
    "\n",
    "e1_stats = calculate_statistics(e1_data, \"E1\")\n",
    "e2_stats = calculate_statistics(e2_data, \"E2\")\n",
    "\n",
    "combined_stats = pd.concat([e1_stats, e2_stats], ignore_index=True)\n",
    "\n",
    "stats_output_file = os.path.join(output_dir, 'encoding_statistics.csv')\n",
    "combined_stats.to_csv(stats_output_file, index=False)\n",
    "\n",
    "print(\"Statistics Calculated and Saved To: \", stats_output_file)"
   ]
  }
 ],
 "metadata": {
  "kernelspec": {
   "display_name": "rgp-solver--3BMeHP1-py3.11",
   "language": "python",
   "name": "python3"
  },
  "language_info": {
   "codemirror_mode": {
    "name": "ipython",
    "version": 3
   },
   "file_extension": ".py",
   "mimetype": "text/x-python",
   "name": "python",
   "nbconvert_exporter": "python",
   "pygments_lexer": "ipython3",
   "version": "3.11.9"
  }
 },
 "nbformat": 4,
 "nbformat_minor": 2
}
